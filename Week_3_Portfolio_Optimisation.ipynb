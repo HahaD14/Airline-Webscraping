{
  "cells": [
    {
      "cell_type": "markdown",
      "metadata": {
        "id": "view-in-github",
        "colab_type": "text"
      },
      "source": [
        "<a href=\"https://colab.research.google.com/github/HassanDuffaydar/Airline-Webscraping/blob/main/Week_3_Portfolio_Optimisation.ipynb\" target=\"_parent\"><img src=\"https://colab.research.google.com/assets/colab-badge.svg\" alt=\"Open In Colab\"/></a>"
      ]
    },
    {
      "cell_type": "markdown",
      "id": "fd789594",
      "metadata": {
        "id": "fd789594"
      },
      "source": [
        "# Portfolio Optimisation"
      ]
    },
    {
      "cell_type": "markdown",
      "source": [
        "The focus of this notebook is going to walking through an example of constructing an Efficient Frontier - a key part of Modern Portfolio Theory!"
      ],
      "metadata": {
        "id": "myChQE9muqm_"
      },
      "id": "myChQE9muqm_"
    },
    {
      "cell_type": "markdown",
      "id": "a0cc1d94",
      "metadata": {
        "id": "a0cc1d94"
      },
      "source": [
        "## Part 1: Importing the libraries and data"
      ]
    },
    {
      "cell_type": "code",
      "execution_count": null,
      "id": "2720a85d",
      "metadata": {
        "id": "2720a85d"
      },
      "outputs": [],
      "source": [
        "#First we want to import the libraries necessary for computing returns, risk, and plotting our graphs\n",
        "\n",
        "import numpy as np\n",
        "import pandas as pd\n",
        "import yfinance as yf\n",
        "\n",
        "#These imports are all related to plotting our graphs, so we dont need to worry too much about these!\n",
        "\n",
        "import plotly\n",
        "import plotly.graph_objects as go\n",
        "from plotly.subplots import make_subplots\n",
        "import plotly.express as px\n",
        "import plotly.figure_factory as ff"
      ]
    },
    {
      "cell_type": "code",
      "execution_count": null,
      "id": "e3f75386",
      "metadata": {
        "id": "e3f75386"
      },
      "outputs": [],
      "source": [
        "#Lets now retrieve our historical financial data that we are going to use\n",
        "\n",
        "tickers = 'MSFT AAPL AMZN NVDA GOOGL META JPM PG JNJ ADBE SPY' #Tickers so yfinance knows what stocks to get data for\n",
        "df = yf.download(tickers = tickers, start = '2013-01-01', end = '2023-01-01', interval = '1d') #Parameters for yfinance\n",
        "df.head()"
      ]
    },
    {
      "cell_type": "markdown",
      "source": [
        "We are going to be computing historical returns - which stock values do we care about most in this instance?"
      ],
      "metadata": {
        "id": "cJuZCVLCwWj_"
      },
      "id": "cJuZCVLCwWj_"
    },
    {
      "cell_type": "markdown",
      "source": [
        "**Adjusted close!**"
      ],
      "metadata": {
        "id": "GOFU87UCwhF5"
      },
      "id": "GOFU87UCwhF5"
    },
    {
      "cell_type": "markdown",
      "source": [
        "What does the 'adjusted' in adjusted close price actually mean?"
      ],
      "metadata": {
        "id": "78YZzBIkxGvd"
      },
      "id": "78YZzBIkxGvd"
    },
    {
      "cell_type": "markdown",
      "source": [
        "**Adjusted close price just means the stock's close price that has been modified to include the effects of corporate actions i.e.**\n",
        "- **Stock splits**\n",
        "- **Dividend payouts**\n",
        "\n"
      ],
      "metadata": {
        "id": "QmUWkivFxL6P"
      },
      "id": "QmUWkivFxL6P"
    },
    {
      "cell_type": "code",
      "source": [
        "#Here we only retrieve the adjusted close price, and then resample to get the adjusted close price for the last day of each year\n",
        "\n",
        "df = df.xs('Adj Close', axis = 1) #.xs will select only the adjusted close values for each stock\n",
        "df = df.resample('YE').last() #.resample will adjust the frequency of our time-series data, and in this case retrieve only the last close value of each stock, each year\n",
        "df"
      ],
      "metadata": {
        "id": "h8GQvElcv1-k"
      },
      "id": "h8GQvElcv1-k",
      "execution_count": null,
      "outputs": []
    },
    {
      "cell_type": "markdown",
      "source": [
        "To plot our efficient frontier, we are going to need"
      ],
      "metadata": {
        "id": "z2g37vm6fq7K"
      },
      "id": "z2g37vm6fq7K"
    },
    {
      "cell_type": "code",
      "source": [
        "#We want to calculate the historical annual returns of each of our stock, to ultimately be used as a predictor for future returns\n",
        "\n",
        "annual_returns = df.apply(lambda x: x.pct_change()).dropna() #Calculate the annual percentage change of each stock (from the last day of each year) and put this in a new df\n",
        "annual_returns"
      ],
      "metadata": {
        "id": "a7RDYOZ2zF5_"
      },
      "id": "a7RDYOZ2zF5_",
      "execution_count": null,
      "outputs": []
    },
    {
      "cell_type": "code",
      "source": [
        "#Calculate the mean of all our stock's annual returns over the years, to serve as our (bad and limited) predictor for future expected return!\n",
        "\n",
        "ann_return = annual_returns.mean() #Our model here is just taking the mean of our historical annual returns, and setting this as our future returns\n",
        "ann_return #This will serve as our future return"
      ],
      "metadata": {
        "id": "N7asL-dpbLmt"
      },
      "id": "N7asL-dpbLmt",
      "execution_count": null,
      "outputs": []
    },
    {
      "cell_type": "markdown",
      "source": [
        "To clarify what we are doing here:\n",
        "- Alex discussed several ways to predict (forecast) future returns for our stocks\n",
        "- And based off these forecasted returns, there are several ways to optimise our portfolio (MC simulations, BL model)\n"
      ],
      "metadata": {
        "id": "U1EDMmGHz5l5"
      },
      "id": "U1EDMmGHz5l5"
    },
    {
      "cell_type": "markdown",
      "source": [
        "In this case, we are taking the mean of our historical annual returns, and **assuming** this will be our future returns\n",
        "\n",
        "We are then going to run Monte Carlo (random) simulations, and see which asset combination gives us the highest Sharpe\n",
        "\n"
      ],
      "metadata": {
        "id": "CoZ9TCYU1WAt"
      },
      "id": "CoZ9TCYU1WAt"
    },
    {
      "cell_type": "code",
      "source": [
        "#Calculate a covariance matrix based on our historical annual returns dataframe, for use when calculating risk later on!\n",
        "\n",
        "ann_cov = annual_returns.cov()\n",
        "ann_cov\n",
        "\n",
        "#Output is a covariance matrix\n",
        "#Notice anything about this matrix\n",
        "#What do the diagonal terms represent"
      ],
      "metadata": {
        "id": "yhiZLUP5dBGX"
      },
      "id": "yhiZLUP5dBGX",
      "execution_count": null,
      "outputs": []
    },
    {
      "cell_type": "markdown",
      "source": [
        "Checkpoint:\n",
        "- We have calculate our future returns for our assets\n",
        "- We have a covariance matrix that can be used when calculating the risk of our portfolio\n",
        "\n",
        "**Next thing to do is run some simulations!**"
      ],
      "metadata": {
        "id": "cT0MVrVM3Db2"
      },
      "id": "cT0MVrVM3Db2"
    },
    {
      "cell_type": "markdown",
      "id": "8e9c16f7",
      "metadata": {
        "id": "8e9c16f7"
      },
      "source": [
        "## Part 2: Creating our portfolios to plot\n"
      ]
    },
    {
      "cell_type": "markdown",
      "source": [
        "We are going to produce 10000 random portfolios based on our calculated future returns and variance data\n",
        "- We will assess each portfolios performance graphically in return-risk space"
      ],
      "metadata": {
        "id": "eD4Ugf9m62tw"
      },
      "id": "eD4Ugf9m62tw"
    },
    {
      "cell_type": "code",
      "execution_count": null,
      "id": "c3914e95",
      "metadata": {
        "id": "c3914e95"
      },
      "outputs": [],
      "source": [
        "#First we set how many assets we want in our portfolio and the amount of portfolios we want to generate\n",
        "\n",
        "n_assets = 7 #Must be less than or equal to number of assets in our portfolio\n",
        "n_portfolios = 10000 #Number of portfolios being created\n",
        "np.random.seed(75) #For the random weight generation\n"
      ]
    },
    {
      "cell_type": "markdown",
      "metadata": {
        "id": "y5jxqDqZ4BNx"
      },
      "source": [
        "Link for more information the equations used:\n",
        "\n",
        "https://quant.stackexchange.com/questions/43442/portfolio-variance-explanation-for-equation-investments-by-zvi-bodie"
      ],
      "id": "y5jxqDqZ4BNx"
    },
    {
      "cell_type": "code",
      "execution_count": null,
      "metadata": {
        "id": "PaK6wjDk4BNy"
      },
      "outputs": [],
      "source": [
        "#This code includes a loop to generate portfolios, creating expected return and variance for each one\n",
        "\n",
        "asset_list = [] #What might these lists be for?\n",
        "weights_list = []\n",
        "mean = []\n",
        "variance = [] #These lists are to store the attributes of every portfolio generated\n",
        "\n",
        "#This loop is for every portfolio(n)\n",
        "\n",
        "for n in range(n_portfolios): #For loop of length number of portfolios\n",
        "\n",
        "    assets = np.random.choice(list(annual_returns.columns), n_assets, replace = False) #This randomly selects 7 elements from our total list of stocks, for portfolio(n), and replace = False ensures no duplicate assets\n",
        "    asset_list.append(assets) #We append our list assets for portfolio(n) to our global asset_list\n",
        "\n",
        "    weights = np.random.rand(n_assets) #This generates an array of random numbers, between 0 and 1, with the length of n_assets (in our case 7)\n",
        "    weights = (weights / sum(weights)).round(4) #This then performs divides each element in our array by the sum of all elements in the array, and then round it to 4 (which is actually 2dp because 0.4245 = 42.45% weighting)\n",
        "    weights_list.append(weights) #Similiar to before, we append our list of weights to our global weights list\n",
        "\n",
        "    port_exp_ret = 0 #Resets the return and variance of the portfolio for each iteration\n",
        "    port_exp_var = 0\n",
        "\n",
        "    #This loop is now for each individual asset within our portfolio(n)\n",
        "\n",
        "    for i in range(len(assets)): #For asset(i) within portfolio(n)\n",
        "        port_exp_ret += weights[i] * ann_return.loc[assets[i]] #Iterating through each asset in the portfolio and adding the assets weighted return to the overall portfolio return\n",
        "\n",
        "        for j in range(len(assets)):\n",
        "            port_exp_var += weights[i] * weights[j] * ann_cov.loc[assets[i], assets[j]] #This calculates our variance of asset(i) with all other assets in the portfolio, for every asset!\n",
        "\n",
        "    mean.append(port_exp_ret) #Like before we add our mean and variance for our portfolio to our global lists\n",
        "    variance.append(port_exp_var)"
      ],
      "id": "PaK6wjDk4BNy"
    },
    {
      "cell_type": "markdown",
      "source": [
        "The equation for variance is as follows:\n",
        "\n",
        "![WhatsApp Image 2024-11-01 at 16.51.22.jpeg](data:image/jpeg;base64,/9j/4AAQSkZJRgABAQAAAQABAAD/2wBDAAgGBgcGBQgHBwcJCQgKDBQNDAsLDBkSEw8UHRofHh0aHBwgJC4nICIsIxwcKDcpLDAxNDQ0Hyc5PTgyPC4zNDL/2wBDAQkJCQwLDBgNDRgyIRwhMjIyMjIyMjIyMjIyMjIyMjIyMjIyMjIyMjIyMjIyMjIyMjIyMjIyMjIyMjIyMjIyMjL/wgARCADCAaADASIAAhEBAxEB/8QAGgABAAMBAQEAAAAAAAAAAAAAAAMEBQIBBv/EABQBAQAAAAAAAAAAAAAAAAAAAAD/2gAMAwEAAhADEAAAAt8AAAAAAAAAAAAAAAAAAAAAAAAAAAAAAAAAAAAAAAAAAAAAAAAAAAAAAAAAAAAHPuVOXeq9gAA59w9Aue89AAAAAAAAAAAAAAAAAAAA4IczW7OwAPPYTjO1x2AAAAAAAAAAAAAAB57ULPWTrAADz0UmFuhd8KfcmUbcfnpWfO/VlZd8Kc3OYbgAAAAAAAAAAAACtRNetlbRR0opQ5rFtUFsEXyv1+eXe/mPpwDz0KGN9RgG+x9geegUC+ocGkzbpKybJdZ3RfRCVkVj6BDKeopQAAADJuTRkU82WX5c7ROa1sVFsACgZ+9HKAAOeswp7/noAzNPkodyeHPVvNIu9CEScWSjXlvHlGxaKNujoFW3n6AAAAAAyNccdgAABTkzBtsQbeVV7NSwiKWhidG2xPDax4bhqAAAAV7AgnABTuDjsAAAAAAAAAAEfHhYVxMiiLgHEXpOriZFEXAAAAAAAAAAAAAAAAAAAUZrArrArQaAHhStU9ArrArQaAAAAAAAAAAAAAAAAAAAAAAAAAAAAAAAAAAAAAAAAAAAAAAAAAAAAAAAAAAAAAAAAAAAAAAAAAAAAAAAAAAAAAAAAAA//9oADAMBAAIAAwAAACHzzzzzzzzzzzzzzzzzzzzzzzzzzzzzzzzzzzzzzzzzzzzzzzzzzzzzzzzzzzzxzTzwDTzzzzzzzzzzzzzzzzzzzyTzyxTzzzzzzzzzzzzzzyxTzzygQyigAjzzzzzzzzzzzzzijzjTzxzxyzTxjzzzzzzzzzzzzBxSxzzwTzzjzygzQQxwwjTzzzzxxzzziThDizwRzzzzxzyxzzzzzzzzzzzzwDyTwDzzzzzzzzzzzzzzzzzzxzwzwTwzzzzzzzzzzzzzzzzzzzzzzzzzzzzzzzzzzzzzzzzzzzzzzzzzzzzzzzzzzzzzzzzzzzzzzzzzzzzzzzzzzzzzzzzzz//aAAwDAQACAAMAAAAQ888888888888888888888888888888888888888888888888888888888888808884c88888888888888888884888sk8888888888888888888oQwgwQw088888888888888kUw08Y08cc0s44ww8ww408888Uo0MM880804840kkME8EgU888888c884I0c4g0Y8888sc888888888888840g8U0g8888888888888888888Ecs4Ucs88888888888888888888888888888888888888888888888888888888888888888888888888888888888888888//xAAUEQEAAAAAAAAAAAAAAAAAAACA/9oACAECAQE/ACl//8QAFBEBAAAAAAAAAAAAAAAAAAAAgP/aAAgBAwEBPwApf//EAEcQAAIBAgMDBwcHCgUFAAAAAAECAwQRAAUSEyExFCIyQVFhkRAVICNCVHEkMDNQUpPRBiVAU1WBobHh8DVEYqLBNHBzgIL/2gAIAQEAAT8C/wC8RkjDaS637L4JCi5IA78K6t0WB+B9ISRsbB1J7L4Z1XpMB8cKysOaQfh9VZlSCrkkCKNcceq46z/YxFVJU5Rt5FDWTnA9oxR0qUtOiqgDaRqNuJ9Kti2bvXwKBsZbWHWOv+OK3ZVVHHuDbUqFJ7/6YjjSJdMaKq9gH1VSc8zTfbkNvgN2AjU+YyUIHqp2Eg7hxPpO4jRnPBRfFPDqy9Y5B9It2/fxxlm05QKST/Kljf8Al/M/VUsSzJoe9u42xT0sNKCIVKg9WonBiRpVlK89dwPpT0sVSAJVLDs1EYihSCPRGCF+N8CJFleQLz3tqPb9QM6oup2CjtOEkjlF43Vx2qb+mzBFLMbAbzjzvQ+8DwOPO9B7wPA4870HvA8DjzvQe8DwOPO9B7wPA4jzKjmkEaTgseAt5J6iKmTXM+leF8ed6H3geBx53oPeB4HHneg94Hgced6D3geBx53oPeB4HFPW09USIZAxHH9OqIJZK2BwUMSX1K2LbP8AKJFgFg0frQP7+HzGaUJoKkSRbo2N1P2TjLa1a6mubbRdzjFhjSOwYkpKeXpwRn/5xWZIE9fRXV136PwxTTCopklHtDFRAlTA0Ug5rY9dlGYd6/7hiCWOohWWPerYsOzBRTxUYly+kmHPgT4gWxyE5TWJUxsWp76Xv7IP6dWViUiC7Lrbct8Uk1MsypDIJppTeR/3fMVNOlVA0UnA/wAMI02UZhv4rx/1DEMqTwrLGbq3oKip0VA333eTNaAVtPzfpU6P4YyivNHPsZd0THff2T6DKGUqwBB4g4AsLD9KraxaKn2h3twVe04alzWaPatV7NuIjXGXxVlbAJvOEi86xHHElPDMbyxI5/1LfCU0ETao4I0btVQPJIXCHZgM3UCbY2tf7tF97/TG0r/dovvf6YEldf8A6eL73+noZtl/LYLoPXJ0e/uxk+Yclm2EptE56/ZPp55l/wDm4h/5B/zjJMw2ycmlPPXontHo1bOxnuzxQwpe67tZ+OMrmkfLFlna/HeezGUTT1VPNLI/Sfm92MoNR8oSocuUktc45QvKuT2bVp1XtuxXyS8nqJzJJEsZ0RKptc9uEqJI8nFRL9IItWKHlM+UXMp2zg6WPVjJ3legBmYs2oi5xNULBo1BjrbSLDFTUJSwNLJwGBHmVcm25QKdW3qgGKKKuqzMpr3Rom0kccPIKWl1yFn0DebbzhTqUN29uOULyrk9m1adXDd81mC685oQ/wBH1fH+7YzCpFNSO3tkWQdpxlVK1JQqj9NucRh6qCOTZvIA3fiOpilbSjc7jYi3kk16Ds9Ovq1cMfnHspfFsfnHspfFsfnHspf93o1NDHX5uRBuUfTMOF/xwqhECjgBb0n07NtdtFt98ZZlySVZql1CBW9Vfr9HPmZctsPaYA4rWWmyMhCLbMKO/GXFKfJ4nJ5oXUTim1U9CZWQmRyZCveerFLUySzzxSBfVW5y8MZ7zuSxHdG0nOxn0mzy7ZjdrYC3dguKTLV09SAJ3nqxTRclo0jPsrvxyyZamnRkULPey+0uM8XWKVT9GZedieZKaBpX3Koxk1O8cEk8os87arYqq2SBuagK6wm/ixPZiaQxpdV1MdwGKapkkq56eQLeO3OXv+amp4qhNMq6h/LEdFBHJtLFnHBnYtbyVMaPmlNB1XaZ74a82epp6MEfOPeer5msqJHl5HSn1zdJv1YxTU8dLCIoxuHX2+m5Oaz7NT8jjPPb9YezAAUAAWA9GSNJYykihlPEHEeXU0ZHNLW4B2JAwmW00ZGlTpBuE1HT4YN7G3HGViRY7MhDMS8pZbc7E8EVTHs5U1LhcvpgDdC9xbnsW3YioIIWDKG5vRDMTp+HkX12eseqCO37ziWJJozHIoZT1HC5fTqwYhn09HWxa3krA5zGnYxs0callsOL4XVoGu2q2+2Mp9Yk9T+ulJHw+cO4XxCqVeaTySLKu4CI6WX+OIoY4F0xrbrPf8xW1bRaYIBqqZOiOzvxR0i0kVr6pG3u59o+UkAXJsMV2dQwqVpyJJe7gMUUJgpERunxb4+SpleunNHTm0Y+mkH8sRRpDGscYsq8B5ZJY4l1SOqjtJxU5iK+dKGm6Dnnv3YAsLD5mqhml2Zhm2ZRrkdTYpaYU4cltckh1O3b6M9LUSTuyVOmN00lbcPhiGJIIViQWVRYfopvY244bJqtp2m5bZ24kXGPM9d+0G8TjzPXftBvE48z1v7QbxOG/J+d+lVA/EYp8gMVQkjzKyqb2t5KlJZIGSGQIx9rCZHVRiyVukd18eZ679oN4nHmeu/aDeJwcmrDxr28Tg/k9KxualT+7GW5RyGZpXkDm1hu+qIpo511RMGW9rjyvIkQu7qo7ziKVJoxJGbqeB9CKaOePaRNqXt8ryJELu6qO84ilSaMSRm6ngfqeoqNjYBdTEE2vbcMQTxtRrOqFUIvpC/hjlsPZL9y34Y5ZF2S/ct+GKyNGppWZFJCGxI4Yyn/AAuD4eWoqdlrCR6yi6m32AGIZo+RpMq6YyL2C/8AAxy2Hsl+5b8Mcsi7JfuW/DFZGjU0rMikhDYkcMZT/hcHw+p82YiiKru2jBC3YDiAk01oAAq82MnrGPln2oPA4+Wfag8DiuniippFdwpZDYHrxk88TUMUQcbQDevXx8ubPoy91XpSkIMLGYqdY4rXVQBfHyz7UHgcfLPtQeBxXTxRU0iu4UshsD14yeeJqGKIONoBvXr4/VzX0nT0rbsJS1U7QGsZfUnVu9o/+kH/xAAsEAEAAQIEBAYCAwEBAAAAAAABEQAhMUFRYRBxwfAgUIGRobEw0UDh8XCA/9oACAEBAAE/If8AsUILWE1vxBRS6Lm54tk8hNQdzwlFSIXVT5UZJb2FWw+j96aC2jyOx3jVq5yuzJ8UqqcWAQPkShYuJMBEppirk+JHlXIwXbxH3pSuzoMHwnp4mJhi5FBMUg73/arDLzxNvKilFPEX5FYrUID5aKQi6McfEXY5AesN6KEGAv7UWYAbDDyBsC4rAVtmkD48cVxqaFdqdK7G6V2N0rsbpXY3SnFfEgn44QGTXNa7W6V2N0rsbpXY3SuxulBfWQCff86zuIJu5m9JIJDA5wvjIJCSNTVQi9j9UYIesNeTWwVLj7VBRzkTUCqMUzMatatr3E0cz3qSYEct6G9JS+j0rgCT9VsKChPMp0S3UPcpXYQcWo1MP50dB4XBzdinyvzdkzywA3/AF0njmtSkoLkDKuFQpHwAISpAiVxeEqJjPWit2C+R/fgDC0AkSgAICwH8poMzqqmYFIOA2n/aFBBQcnrQQOIEoe9ZcEknxwQxJgB9a/01P9tSGkzO7wAwYStFGdUB4zGtq4Hb1qNte97XM8L5PYs1JtoLYZtPCRLORrShmQKYYy9/iocbKk3zjbCpUIM+AJ1pUqiBzRPUn4KUDEJzYt0p3OL7JQcJKZYH/avcBKa7SXQeGa6UdRTF0ZS1iFerq2agbBikuExQnCAGBDXNDuATGP4lzMWWEL9KSd5qLhRGQjoly9or2ScC044YU3mguCTUnE34bHMz3RU1SaoMiYM4fCeZucI0FJx4Qlmx4mcyNOM5qc5qLHfy8KnB5Jx+woLr1Gg+poIY35TUL1jxVt9Cp3tG7JS5fSkyuJNMDq0BoegS/QpbvjRpQPVokmt3xfma1mwEATLl6ZUllmHkd3p+T3DYq9AQtMvto6mY8v0gqRlgPNfopQEXChZMX/FEqDJkrUcqNZvEck4cBOTGrpcvqpVjEW5HV+EVaE5erzrVcCxWr4BHB4rHFgZGTajLCgDAOOHC2sPMUgBjBi7Dakq7AYOsmKYYTCxrU+EblJsE7UpE14cmhW89YNBOFNZZJeQtuGqj/P8AqsXG1DmTAM5ReBAOB3KB01lqKfYTsJzq5ceQNjr+RCLAvRFS5hAXcEf3TiAWSZVqrdfwMAWmj1bUgkZnnERCDFWnaqw3b051O4oncV3eCLeVxp3oSJoDijE9FUnKIw5xIelAQQFg/DqEBOQxlSpJEkS5ZHhRjOSW93b/AMZVMZVstOE02sifoWcK7P612f1qfHtd6+S0etDKCzjjhb4PImDbeki2ZiK/vXZ/Wuz+tDQg3/bUsZqukUDbwjXyh+VLcHHfuRFe455xUCWxRIKqA2479yIr3HPPJ4eR4gxFcjD3rGtOpPQcBU9Kg4PgtmVfJ/bxXME/rDVhtSUYIcpPAFT0qDg+C2ZV8n9vk8XCRcGXXb91qsYIEE/f3Udj+6jsf3QM7WXsypD9bJZ2eLBPWJf6mkoMJ7WqOx/dR2P7oGdrL2ZUh+tks7Pk6SQ4eOeeEknCaiId1y3Cwf8AiD//xAArEAEAAQMDBAEEAgIDAAAAAAABEQAhMUFRYRAgcYGRMFChwUCxcPCA0eH/2gAIAQEAAT8Q/wAxXUOEFJwRM07OskB7aDFEoEPjuzmS7WZsNAoyyDLxNKi1hCB2t9qilvlu/C6xScRadhiaSuKtdBDhREaAxGuWW85x3LGCvsAQ1kOJoUDOlWCMoCttR8SZBTbwa2L/AGpE1JwMAjiXReSLf6Ck8Ub90l4XsEv9VPQeWv3S6cbg7xCR+kOE+1PkoU9jlGOJqOU0gETgYMuInWrpMsTFh7gz+3um7TCZMTAjAzMUyw5hvgWscTFGBQMyCktLC/6fYMT018xbFOzRhkjaU94sFRwBK/BUPbylSpUstoSTaUHQKjkAooULC6PcwpUqVIEKEADabCf5w7KlSgsERZYbRLvTQnnRjEFhk+Ru96MwIRJErf8A6yDN+kZ4eGo4DhA4E4PTJpU3/VTlDyKVzPWM8MSeqcBM1CUklyRhWeKHaB+j+gJ6q6ikmXoNkblMS0Qx+qQ9JuVJGOQSOq2RkfFLZ+GkQVyC0mNkH+NaJebMREosDKdwOaz/ADTW1o66uXMzF2wXalk8hGaAgCA2DhfvsBWB4HINLwYHs3bhLmycRRwS9dyOyMibnYXzTIVKRqt16KSicWOqdnTZjmojI6zSkODT0dKGSTHVPxiCVkRyUGAYBABgP5UQmisIweNV/cUwjqG1kY18+1T1dLQwcpLiONanOyLjYQwUXMBEUOSQPSRrR5GyBj46rdqAepIsHZgslYDmU86bPlq50As0pZwOHazo9+eoAeHBH8eju1dUvTcfy/IeHtlJ0DCoC8EIV4HEUB7CaW261bN9QKij3QgDDYYRQClre0TI+QNJoUHfDMgHJ24qMswCQkIUTBMSN5mgVMgET5TdmXLSqOVbyUxOJnSeKFUcQsC63YQeqijSre87BF2rgVoeEOVtU9AikPIobnnwYqN1bgrKSMNQ9VGGPhwsNVvsTRgdsAEmE0eKlgUwLxQdzt9KwANWGs8qFK4yC3AgBrEy8FIRZbaB5AlzNH9QrlYGMHKFmL1HrOVzpEeBJz0hiLBYl8keK/0D9V/oH6rWUmSji3aY4gIu7rqjOky71m+YigglbuMvc1sibDHqWiJpT2xGG2Wsfzrqds6s3Gl9AqQLjECkbql8tc+RaK+Rlj8UR0kP4pIPFHFM8RxCJullETrsVvGmwQgn0/qlpwhYW5g2H5CoMnekqQGqh+alFMxyzm8ylSiZxyAgs3Ikw1XaSRRRiSAV0s1US5CYlpyLYKSdERCXqTSVPCVEQvsCFLwBC7MslomsBlWSoJYYMroDnFTSnKORE3N5vexj6RM5XlAwBFcjQqswUtk34dBXkiYUTnSYRt4qCslYgITmEhw/RMNYO6Mp3jYzc3KckXsz5bVf/MHZIQMMMOHooCrAUCromJUybdXX4aPtg+AWANDqoFUAurQiCMjhKDKkFIKRCxyghHotbFZgNT3MGSnigJklmBRYmiqPUSHZpgSpJjeygqyB0ES43blIO+SQBsMYhsbUvv2kcXIXOemz3NhLvmnqi9HBpHnh5LlNhwYGsTQfHQocclGWCIkCAL3prLMEbO4FkJnNFGsrO7D6s+pKhAqBWDgu1IniQmRAuuikiIoCDaE7lR5Cr9DdbijU2xfOY4a1yxE3KuxLB+16m0iRgDlakb/7AsFsHtNWFQ35GddbqeuiQRj5F7rj7NEoWrdIP26rq9c6VhH80wMfRQ2VhiDK5xi9BYGAIAMH0X1wUEA3wu41l4RRJeCENBgJY7ZYECQaKQniWJc2iM8ALLyvKyvL/FlkGaZUQtMaUKVbMifgIIMWOooQghBs1GBVMP8AdUc04gZpC7iQnjoAZr+mzYkbHSkawbmrVDLqKEcGKRR4g5VflaiIYGuoq7mwe37Q78TJGoX6rBgWOx7aCCZQEAKa3yPVEgBKrAFGY8NBUjnk6rBgWOx7aCCZQEAKa3yP2e1NuyGGOYJGGUcxfsoNCwwxbzcOekMcBcp5QhehySTBjbsRGznGBQoKGxBDS6EKfvr46AFbuhz0hjgLlPKEL0OSSYMbfaEVoB2C7BpAhpYFqUHyQhhSENwNXTaTEw1YhcaVmQNbp80Dj92MrpmLPnqSIiAhaCc2CkmUDMQFwRwdNpMTDViFxpWZA1unzQOP3YyumYs+fs4IAqyJnvBSQCyIWU2mmXGRYy2YAAQAuwzE/wDCD//+AAMA/9k=)\n",
        "\n",
        "This relates to our loop, where we are multiplying the weights of asset(i) and asset (j), and then by their covariance"
      ],
      "metadata": {
        "id": "Jzac9eV0HrSI"
      },
      "id": "Jzac9eV0HrSI"
    },
    {
      "cell_type": "markdown",
      "source": [
        "Here we can investigate what each list contains:"
      ],
      "metadata": {
        "id": "EjH4hrfF-egp"
      },
      "id": "EjH4hrfF-egp"
    },
    {
      "cell_type": "code",
      "source": [
        "asset_list"
      ],
      "metadata": {
        "id": "hT1Z8g-w-knZ"
      },
      "id": "hT1Z8g-w-knZ",
      "execution_count": null,
      "outputs": []
    },
    {
      "cell_type": "code",
      "source": [
        "print(len(asset_list))"
      ],
      "metadata": {
        "id": "lj1oOtRv-0G5"
      },
      "id": "lj1oOtRv-0G5",
      "execution_count": null,
      "outputs": []
    },
    {
      "cell_type": "code",
      "source": [
        "weights_list"
      ],
      "metadata": {
        "id": "uqBS0rSk-mT1"
      },
      "id": "uqBS0rSk-mT1",
      "execution_count": null,
      "outputs": []
    },
    {
      "cell_type": "markdown",
      "source": [
        "We want our data to be organised in a hassle free way, so we can easily plot and manipulate our data\n",
        "\n",
        "**For this reason we will put it all into a dataframe!**"
      ],
      "metadata": {
        "id": "WyRW4Bm9E7mt"
      },
      "id": "WyRW4Bm9E7mt"
    },
    {
      "cell_type": "code",
      "execution_count": null,
      "metadata": {
        "id": "RALijUxB4BNy"
      },
      "outputs": [],
      "source": [
        "#Creating our dataframe - here we see why all our lists were so useful!\n",
        "\n",
        "plot_data = pd.DataFrame(index = range(n_portfolios), data = zip(mean, variance, asset_list, weights_list),\n",
        "                         columns = ['Return', 'Variance', 'Asset List', 'Asset Weights']) #Creating our dataframe and passing in all our lists\n",
        "plot_data"
      ],
      "id": "RALijUxB4BNy"
    },
    {
      "cell_type": "code",
      "source": [
        "#Calculate the Sharpe Ratio for each portfolio, and add this data to our dataframe for plotting\n",
        "\n",
        "plot_data['Sharpe Ratio'] = (plot_data['Return'] - 0.05) / plot_data['Variance']**0.5 #What might 0.05 mean here? What about the **0.5?\n",
        "plot_data"
      ],
      "metadata": {
        "id": "wilR6lnqGlPR"
      },
      "id": "wilR6lnqGlPR",
      "execution_count": null,
      "outputs": []
    },
    {
      "cell_type": "markdown",
      "source": [
        "Sharpe Ratio formula... incase we forgot!\n",
        "\n",
        "![Screenshot 2024-11-03 at 13.00.29.png](data:image/png;base64,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)"
      ],
      "metadata": {
        "id": "8iVBbxPdHEs2"
      },
      "id": "8iVBbxPdHEs2"
    },
    {
      "cell_type": "code",
      "execution_count": null,
      "metadata": {
        "id": "dv0H3DOG4BNy"
      },
      "outputs": [],
      "source": [
        "len(plot_data) #Check the length of our dataframe"
      ],
      "id": "dv0H3DOG4BNy"
    },
    {
      "cell_type": "markdown",
      "id": "f85889b5",
      "metadata": {
        "id": "f85889b5"
      },
      "source": [
        "## Part 3:Plotting the Efficient Frontier graph\n"
      ]
    },
    {
      "cell_type": "markdown",
      "id": "009d58c2",
      "metadata": {
        "id": "009d58c2"
      },
      "source": [
        "Using plotly we can make excellent interactive graphs to display our different portfolios"
      ]
    },
    {
      "cell_type": "code",
      "execution_count": null,
      "id": "c04f9a58",
      "metadata": {
        "id": "c04f9a58"
      },
      "outputs": [],
      "source": [
        "fig = go.Figure() #Creates an instance of go (graph object) similiar to figure = plt.figure\n",
        "\n",
        "plot_data['HoverText'] = [\n",
        "    f\"Assets: {assets}<br>Weights: {weights}<br>Annualised Return: {mean}<br>Annualised Risk: {variance}\"\n",
        "    for assets, weights, mean, variance in zip(plot_data['Asset List'], plot_data['Asset Weights'], plot_data['Return'], plot_data['Variance']**0.5)\n",
        "]\n",
        "\n",
        "fig.add_trace(go.Scatter(x=plot_data['Variance']**0.5, y=plot_data['Return'], #Note our x axis becomes standard deviation so is square rooted\n",
        "                      marker=dict(color=plot_data['Sharpe Ratio'], #Mark each point by its sharpe ratio\n",
        "                                  showscale=True, #Parameters for the marker\n",
        "                                  size=7,\n",
        "                                  line=dict(width=1),\n",
        "                                  colorscale=\"RdBu\",\n",
        "                                  colorbar=dict(title=\"Sharpe<br>Ratio\")\n",
        "                                 ),\n",
        "                      mode='markers', text=plot_data['HoverText'],  # Pass the formatted text\n",
        "    hovertemplate=\"%{text}<extra></extra>\"))\n",
        "\n",
        "fig.update_layout(template='plotly_white', #Generic formatting\n",
        "                  xaxis=dict(title='Annualised Risk (Volatility)'),\n",
        "                  yaxis=dict(title='Annualised Return'),\n",
        "                  title='Sample of Random Portfolios',\n",
        "                  width=1250,\n",
        "                  height=900)\n",
        "\n",
        "fig.update_layout(coloraxis_colorbar=dict(title=\"Sharpe Ratio\"))"
      ]
    },
    {
      "cell_type": "markdown",
      "metadata": {
        "id": "dB7D98Uq4BNz"
      },
      "source": [
        "# Data Analysis on our Portfolios\n",
        "\n",
        "By utilising the versatility of Pandas and DataFrames, we can extract meaningful insights on our different portfolios"
      ],
      "id": "dB7D98Uq4BNz"
    },
    {
      "cell_type": "code",
      "execution_count": null,
      "metadata": {
        "id": "XhEBzEfD4BNz"
      },
      "outputs": [],
      "source": [
        "#We can search for max values from our dataframe\n",
        "\n",
        "plot_data['Sharpe Ratio'].idxmax() #.idxmax locates the row with the maximum sharpe ratio"
      ],
      "id": "XhEBzEfD4BNz"
    },
    {
      "cell_type": "code",
      "execution_count": null,
      "metadata": {
        "id": "5RLjv3It4BNz"
      },
      "outputs": [],
      "source": [
        "#What if we want to know more about our portfolio with the highest sharpe ratio?\n",
        "\n",
        "plot_data.iloc[plot_data['Sharpe Ratio'].idxmax()] #Outputs the related info"
      ],
      "id": "5RLjv3It4BNz"
    },
    {
      "cell_type": "code",
      "execution_count": null,
      "metadata": {
        "id": "xgRqvQmG4BNz"
      },
      "outputs": [],
      "source": [
        "#We can also search for portfolios with risk (standard deviation of our portfolio) below a certain level, and then order them by which metric we want!\n",
        "\n",
        "plot_data[plot_data['Variance']**0.5 < 0.3].sort_values('Sharpe Ratio', axis =0, ascending = False) #Square rooting our variance to get standard deviation\n",
        "\n",
        "#Here we are ordering our portfolios by the best sharpe ratio at a volatility (standard deviation) of less than 30%"
      ],
      "id": "xgRqvQmG4BNz"
    },
    {
      "cell_type": "markdown",
      "id": "3427c07e",
      "metadata": {
        "id": "3427c07e"
      },
      "source": [
        "## Extra: Improving the graph and adding features"
      ]
    },
    {
      "cell_type": "markdown",
      "source": [
        "How could we improve our graph / make it easier to only look at the **best** portfolios?\n",
        "- Add a 'dominating' condition\n",
        "\n",
        "What do we mean by a 'dominating' condition?"
      ],
      "metadata": {
        "id": "li9H80hCK92K"
      },
      "id": "li9H80hCK92K"
    },
    {
      "cell_type": "markdown",
      "source": [
        "Theres are lots of portfolios below the efficient frontier, so we may as well get rid of these!\n",
        "- If two portfolios have equal return, we will chose the one with less risk, and similiarly at the same risk level we want the most return"
      ],
      "metadata": {
        "id": "5D4ovRq8K8m-"
      },
      "id": "5D4ovRq8K8m-"
    },
    {
      "cell_type": "code",
      "execution_count": null,
      "metadata": {
        "id": "JhlVgqWb4BN0"
      },
      "outputs": [],
      "source": [
        "#Same code as before, but the variables have an _2 so previous lines of code can be ran / messed around with without variables issues\n",
        "\n",
        "n_assets_2 = 7\n",
        "n_portfolios_2 = 10000\n",
        "\n",
        "asset_list_2 = []\n",
        "weights_list_2 = []\n",
        "mean_2 = []\n",
        "variance_2 = []\n",
        "\n",
        "for n in range(n_portfolios_2):\n",
        "\n",
        "    assets = np.random.choice(list(annual_returns.columns), n_assets_2, replace = False)\n",
        "    asset_list_2.append(assets)\n",
        "\n",
        "    weights = np.random.rand(n_assets_2)\n",
        "    weights = (weights / sum(weights)).round(4)\n",
        "    weights_list_2.append(weights)\n",
        "\n",
        "\n",
        "    port_exp_ret = 0\n",
        "    port_exp_var = 0\n",
        "\n",
        "    for i in range(len(assets)):\n",
        "        port_exp_ret += weights[i] * ann_return.loc[assets[i]]\n",
        "\n",
        "        for j in range(len(assets)):\n",
        "            port_exp_var += weights[i] * weights[j] * ann_cov.loc[assets[i], assets[j]]\n",
        "\n",
        "    mean_2.append(port_exp_ret)\n",
        "    variance_2.append(port_exp_var)"
      ],
      "id": "JhlVgqWb4BN0"
    },
    {
      "cell_type": "code",
      "execution_count": null,
      "metadata": {
        "id": "qppHELhW4BN0"
      },
      "outputs": [],
      "source": [
        "#Same as before we create our dataframe\n",
        "\n",
        "plot_data_2 = pd.DataFrame(index = range(n_portfolios_2),data = zip(mean_2, variance_2, asset_list_2, weights_list_2), columns = ['Mean', 'Variance', 'Asset List', 'Asset Weights'])\n",
        "plot_data_2['Sharpe Ratio'] = (plot_data_2['Mean'] - 0.05) / plot_data_2['Variance']**0.5\n",
        "plot_data_2"
      ],
      "id": "qppHELhW4BN0"
    },
    {
      "cell_type": "code",
      "execution_count": null,
      "metadata": {
        "id": "qgXIOLwK4BN0"
      },
      "outputs": [],
      "source": [
        "#Dominating condition to filter out our undesirable portfolios\n",
        "\n",
        "mean_var_pairs = plot_data_2[['Mean', 'Variance']].to_numpy() #This gets our mean and variance from our portfolios and makes it into a 2d array to be iterated through\n",
        "dominant_portfolio = [] #We create an empty array for our desirable portfolios, note this is a 2d array that will be important later!\n",
        "\n",
        "for R_tocheck, V_tocheck in mean_var_pairs: #R_tocheck and V_tocheck is the return and variance of each portfolio, and will loop through each portfolio in in our dataframe\n",
        "\n",
        "    should_append = True   #Initial condition is that our selected portfolio from the mean_variance_pairs array is a dominant portfolio\n",
        "\n",
        "    for R,V in mean_var_pairs: #Second loop which will compare the R_tocheck and V_tocheck against every other portfolio created\n",
        "        if (R > R_tocheck) & (V < V_tocheck): #If the portfolio is dominated by any other, we break out the loop and dont add it to dominant pairs array\n",
        "            should_append = False\n",
        "            break\n",
        "\n",
        "    if should_append == True:\n",
        "        dominant_portfolio.append([R_tocheck, V_tocheck])   #If the R_tocheck and V_tocheck portfolio isnt dominated by any other, we add it to our dominant pairs list"
      ],
      "id": "qgXIOLwK4BN0"
    },
    {
      "cell_type": "code",
      "source": [
        "mean_var_pairs"
      ],
      "metadata": {
        "id": "rGRtYFKskDwg"
      },
      "id": "rGRtYFKskDwg",
      "execution_count": null,
      "outputs": []
    },
    {
      "cell_type": "markdown",
      "source": [
        "Summary of the above code:\n",
        "- Two loops that compares one mean_variance pair against all other paris in our dataframe\n",
        "- If our 'check' portfolio isnt dominated by any other, it is a dominant portfolio\n",
        "- Check every portfolio against every other in the portfolio list"
      ],
      "metadata": {
        "id": "ZQIhRKvtP5wj"
      },
      "id": "ZQIhRKvtP5wj"
    },
    {
      "cell_type": "code",
      "execution_count": null,
      "metadata": {
        "id": "hamwUDrV4BN0"
      },
      "outputs": [],
      "source": [
        "#Now we are creating our new dataframe through a merge with the original dataframe, on our dominant portfolios\n",
        "\n",
        "dominant_df = pd.DataFrame(index = range(len(dominant_portfolio)), data = dominant_portfolio, columns = ['Mean', 'Variance'])\n",
        "dominant_df = pd.merge(dominant_df, plot_data_2, how = 'left') #Merged on the dominant portfolios, meaning only dominant values are carried over\n",
        "dominant_df"
      ],
      "id": "hamwUDrV4BN0"
    },
    {
      "cell_type": "code",
      "source": [
        "#Our original amount of portfolios\n",
        "\n",
        "len(plot_data_2)"
      ],
      "metadata": {
        "id": "scVjwzUrSQl6"
      },
      "id": "scVjwzUrSQl6",
      "execution_count": null,
      "outputs": []
    },
    {
      "cell_type": "code",
      "execution_count": null,
      "metadata": {
        "id": "LQ_qFMcg4BN1"
      },
      "outputs": [],
      "source": [
        "#Our new amount of dominant portfolios\n",
        "\n",
        "len(dominant_df)"
      ],
      "id": "LQ_qFMcg4BN1"
    },
    {
      "cell_type": "code",
      "execution_count": null,
      "metadata": {
        "id": "03ONDvwW4BN1"
      },
      "outputs": [],
      "source": [
        "#Same code as before\n",
        "\n",
        "fig = go.Figure()\n",
        "\n",
        "fig.add_trace(go.Scatter(x=dominant_df['Variance']**0.5, y=dominant_df['Mean'],\n",
        "                      marker=dict(color=dominant_df['Sharpe Ratio'],\n",
        "                                  showscale=True,\n",
        "                                  size=7,\n",
        "                                  line=dict(width=1),\n",
        "                                  colorscale=\"RdBu\",\n",
        "                                  colorbar=dict(title=\"Sharpe<br>Ratio\")\n",
        "                                 ),\n",
        "                      mode='markers'))\n",
        "\n",
        "fig.update_layout(template='plotly_white',\n",
        "                  xaxis=dict(title='Annualised Risk (Volatility)'),\n",
        "                  yaxis=dict(title='Annualised Return'),\n",
        "                  title='Sample of Dominant Portfolios',\n",
        "                  width=850,\n",
        "                  height=500)\n",
        "\n",
        "fig.update_layout(coloraxis_colorbar=dict(title=\"Sharpe Ratio\"))"
      ],
      "id": "03ONDvwW4BN1"
    },
    {
      "cell_type": "markdown",
      "source": [
        "## Is all this worth it? Why not just buy and hold?"
      ],
      "metadata": {
        "id": "s9vlhH6iXy4n"
      },
      "id": "s9vlhH6iXy4n"
    },
    {
      "cell_type": "markdown",
      "source": [
        "Lets get the Sharpe Ratios if we bought and held our individual stocks, and see if portfolio optimisation beats it!"
      ],
      "metadata": {
        "id": "dBrbOiXMyVBq"
      },
      "id": "dBrbOiXMyVBq"
    },
    {
      "cell_type": "code",
      "source": [
        "#First lets just grab the mean of each stocks historical annual return, and add it to a new dataframe\n",
        "\n",
        "stocks_return = ann_return\n",
        "stocks_return"
      ],
      "metadata": {
        "id": "cf9o14T-t9NG"
      },
      "id": "cf9o14T-t9NG",
      "execution_count": null,
      "outputs": []
    },
    {
      "cell_type": "code",
      "source": [
        "#Now lets remind ourselves of our covariance matrix from earlier\n",
        "\n",
        "ann_cov #From here were are only interested in the variance of each stock (to sqrt so we get standard deviation to then get Sharpe ratio) so we look at the diagonal"
      ],
      "metadata": {
        "id": "7XGYqwGDzX8b"
      },
      "id": "7XGYqwGDzX8b",
      "execution_count": null,
      "outputs": []
    },
    {
      "cell_type": "code",
      "source": [
        "#Lets grab each stock's variance through a simple for loop that iterates through, and adds each diagonal value to a list\n",
        "\n",
        "stocks_variance = []\n",
        "for i in range(len(ann_cov.columns)):\n",
        "    stocks_variance.append(ann_cov.iloc[i][i])\n",
        "stocks_variance"
      ],
      "metadata": {
        "id": "9_yX2NUivlrz"
      },
      "id": "9_yX2NUivlrz",
      "execution_count": null,
      "outputs": []
    },
    {
      "cell_type": "code",
      "source": [
        "#Lets add it all together, and calculate the Sharpe Ratio while we are at it\n",
        "\n",
        "brand_df = pd.DataFrame({'Return': stocks_return.values.flatten(), 'Variance': stocks_variance},  index=ann_return.index) #Create the new dataframe\n",
        "brand_df['Sharpe Ratio'] = (brand_df['Return'] - 0.05 / brand_df['Variance']**0.5) #Add a Sharpe Ratio column\n",
        "brand_df"
      ],
      "metadata": {
        "id": "7tQ2_Daovxgn"
      },
      "id": "7tQ2_Daovxgn",
      "execution_count": null,
      "outputs": []
    },
    {
      "cell_type": "code",
      "source": [
        "#Sort by Sharpe Ratio to see the best performing stock\n",
        "\n",
        "brand_df['Sharpe Ratio'].sort_values(ascending=False)"
      ],
      "metadata": {
        "id": "o5o7ISMLzpl0"
      },
      "id": "o5o7ISMLzpl0",
      "execution_count": null,
      "outputs": []
    },
    {
      "cell_type": "code",
      "source": [
        "#Compare it to our highest Sharpe Ratio portfolio...\n",
        "\n",
        "dominant_df.iloc[dominant_df['Sharpe Ratio'].idxmax()]"
      ],
      "metadata": {
        "id": "3iI2cJyYz4df"
      },
      "id": "3iI2cJyYz4df",
      "execution_count": null,
      "outputs": []
    },
    {
      "cell_type": "code",
      "source": [
        "print(\"The sharpe ratio of our best portfolio was \" + str(dominant_df['Sharpe Ratio'].max()) + \" while if we bought and held the best performing stock in our portfolio, we would only achieve \" + str(brand_df['Sharpe Ratio'].max()))"
      ],
      "metadata": {
        "id": "FDQ-6afAavpP"
      },
      "id": "FDQ-6afAavpP",
      "execution_count": null,
      "outputs": []
    },
    {
      "cell_type": "markdown",
      "source": [
        "**So using portfolio optimisation is superior!**"
      ],
      "metadata": {
        "id": "8t2-I-dpbV8Q"
      },
      "id": "8t2-I-dpbV8Q"
    },
    {
      "cell_type": "markdown",
      "metadata": {
        "id": "fLqfS8P34BN1"
      },
      "source": [
        "# Coding challenge!"
      ],
      "id": "fLqfS8P34BN1"
    },
    {
      "cell_type": "markdown",
      "metadata": {
        "id": "PGXLRt2o4BN1"
      },
      "source": [
        "The task for you guys:\n",
        "- Using the the given data set, find the top 5 portfolios with the highest sharpe ratio for 0.3 volatility\n",
        "- Find the portfolio with the best sharpe ratio overall - you can also try and plot an Efficient Frontier graph!"
      ],
      "id": "PGXLRt2o4BN1"
    },
    {
      "cell_type": "markdown",
      "metadata": {
        "id": "ajqtDoAx4BN1"
      },
      "source": [
        "Hint:\n",
        "- Pandas has really good documentation online on dataframe conditional filtering\n",
        "- .idxmax and .loc (!)"
      ],
      "id": "ajqtDoAx4BN1"
    },
    {
      "cell_type": "markdown",
      "source": [],
      "metadata": {
        "id": "9y6MYcdfVEqG"
      },
      "id": "9y6MYcdfVEqG"
    },
    {
      "cell_type": "code",
      "execution_count": null,
      "metadata": {
        "id": "tomT8r1j4BN1"
      },
      "outputs": [],
      "source": [
        "#Getting our data\n",
        "chall_tickers = 'AAPL MSFT AMZN NVDA META AVGO GOOGL GOOG TSLA ADBE COST PEP CSCO NFLX AMD'\n",
        "chall_df =  yf.download(tickers = chall_tickers, start = '2013-01-01', end = '2023-01-01', interval = '1d')\n",
        "chall_df = chall_df.xs('Adj Close', axis = 1)\n",
        "chall_df = chall_df.resample('YE').last()\n",
        "\n",
        "#Getting our daily returns\n",
        "chall_annual_returns = chall_df.apply(lambda x:x.pct_change()).fillna(0)\n",
        "\n",
        "#Getting our mean and variance data\n",
        "chall_ann_return = chall_annual_returns.mean()\n",
        "chall_ann_cov = chall_annual_returns.cov()\n",
        "\n",
        "#Create some parameters for generating our random portfolios\n",
        "chall_n_assets = 5\n",
        "chall_n_portfolios = 1000\n",
        "np.random.seed(75)"
      ],
      "id": "tomT8r1j4BN1"
    },
    {
      "cell_type": "code",
      "execution_count": null,
      "metadata": {
        "id": "VWoCCALi4BN2"
      },
      "outputs": [],
      "source": [
        "#Creating our lists\n",
        "chall_asset_list = []\n",
        "chall_weights_list = []\n",
        "chall_mean = []\n",
        "chall_variance = []\n",
        "\n",
        "#Creating our random portfolios\n",
        "for i in range(chall_n_portfolios):\n",
        "\n",
        "    assets = np.random.choice(list(chall_annual_returns.columns), chall_n_assets, replace = False)\n",
        "    chall_asset_list.append(assets)\n",
        "    weights = np.random.rand(chall_n_assets)\n",
        "    weights = (weights / sum(weights)).round(4)\n",
        "    chall_weights_list.append(weights)\n",
        "\n",
        "    port_exp_ret = 0\n",
        "    port_exp_var = 0\n",
        "\n",
        "    for i in range(len(assets)):\n",
        "        port_exp_ret += weights[i] * chall_ann_return.loc[assets[i]]\n",
        "        for j in range(len(assets)):\n",
        "            port_exp_var += weights[i] * weights[j] * chall_ann_cov.loc[assets[i], assets[j]]\n",
        "    chall_mean.append(port_exp_ret)\n",
        "    chall_variance.append(port_exp_var)"
      ],
      "id": "VWoCCALi4BN2"
    },
    {
      "cell_type": "code",
      "execution_count": null,
      "metadata": {
        "id": "oVZOsKZ_4BN2"
      },
      "outputs": [],
      "source": [
        "#Creating our dataframe for our portfolios\n",
        "chall_data = pd.DataFrame(index = range(chall_n_portfolios),data = zip(chall_mean, chall_variance, chall_asset_list, chall_weights_list),\n",
        "                         columns = ['Mean', 'Variance', 'Asset List', 'Asset Weights'])\n",
        "chall_data['Sharpe Ratio'] = (chall_data['Mean'] - 0.05) / chall_data['Variance']**0.5\n",
        "\n",
        "chall_data"
      ],
      "id": "oVZOsKZ_4BN2"
    },
    {
      "cell_type": "markdown",
      "metadata": {
        "id": "j29dHwMe4BN2"
      },
      "source": [
        "Whats next!"
      ],
      "id": "j29dHwMe4BN2"
    }
  ],
  "metadata": {
    "kernelspec": {
      "display_name": "Python 3",
      "language": "python",
      "name": "python3"
    },
    "language_info": {
      "codemirror_mode": {
        "name": "ipython",
        "version": 3
      },
      "file_extension": ".py",
      "mimetype": "text/x-python",
      "name": "python",
      "nbconvert_exporter": "python",
      "pygments_lexer": "ipython3",
      "version": "3.8.8"
    },
    "colab": {
      "provenance": [],
      "include_colab_link": true
    }
  },
  "nbformat": 4,
  "nbformat_minor": 5
}